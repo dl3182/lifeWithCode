{
 "cells": [
  {
   "cell_type": "code",
   "execution_count": 1,
   "metadata": {},
   "outputs": [],
   "source": [
    "import pandas as pd\n",
    "import numpy as np\n",
    "import matplotlib.pyplot as plt\n",
    "plt.ion()"
   ]
  },
  {
   "cell_type": "code",
   "execution_count": 2,
   "metadata": {},
   "outputs": [],
   "source": [
    "df = pd.read_csv(\"mdLog.csv\")"
   ]
  },
  {
   "cell_type": "code",
   "execution_count": 65,
   "metadata": {},
   "outputs": [
    {
     "data": {
      "text/html": [
       "<div>\n",
       "<style scoped>\n",
       "    .dataframe tbody tr th:only-of-type {\n",
       "        vertical-align: middle;\n",
       "    }\n",
       "\n",
       "    .dataframe tbody tr th {\n",
       "        vertical-align: top;\n",
       "    }\n",
       "\n",
       "    .dataframe thead th {\n",
       "        text-align: right;\n",
       "    }\n",
       "</style>\n",
       "<table border=\"1\" class=\"dataframe\">\n",
       "  <thead>\n",
       "    <tr style=\"text-align: right;\">\n",
       "      <th></th>\n",
       "      <th>updateCount</th>\n",
       "      <th>lastprice</th>\n",
       "      <th>volume</th>\n",
       "      <th>bidsize</th>\n",
       "      <th>bid</th>\n",
       "      <th>ask</th>\n",
       "      <th>asksize</th>\n",
       "      <th>spread</th>\n",
       "      <th>marketsize</th>\n",
       "      <th>mid</th>\n",
       "      <th>curvolume</th>\n",
       "    </tr>\n",
       "  </thead>\n",
       "  <tbody>\n",
       "    <tr>\n",
       "      <th>0</th>\n",
       "      <td>1</td>\n",
       "      <td>26.78</td>\n",
       "      <td>303</td>\n",
       "      <td>455</td>\n",
       "      <td>26.77</td>\n",
       "      <td>26.79</td>\n",
       "      <td>1</td>\n",
       "      <td>0.02</td>\n",
       "      <td>228.0</td>\n",
       "      <td>26.780</td>\n",
       "      <td>0</td>\n",
       "    </tr>\n",
       "    <tr>\n",
       "      <th>1</th>\n",
       "      <td>2</td>\n",
       "      <td>26.78</td>\n",
       "      <td>303</td>\n",
       "      <td>455</td>\n",
       "      <td>26.77</td>\n",
       "      <td>26.79</td>\n",
       "      <td>1</td>\n",
       "      <td>0.02</td>\n",
       "      <td>228.0</td>\n",
       "      <td>26.780</td>\n",
       "      <td>0</td>\n",
       "    </tr>\n",
       "    <tr>\n",
       "      <th>2</th>\n",
       "      <td>3</td>\n",
       "      <td>26.77</td>\n",
       "      <td>361</td>\n",
       "      <td>518</td>\n",
       "      <td>26.77</td>\n",
       "      <td>26.78</td>\n",
       "      <td>1</td>\n",
       "      <td>0.01</td>\n",
       "      <td>259.5</td>\n",
       "      <td>26.775</td>\n",
       "      <td>58</td>\n",
       "    </tr>\n",
       "    <tr>\n",
       "      <th>3</th>\n",
       "      <td>4</td>\n",
       "      <td>26.79</td>\n",
       "      <td>374</td>\n",
       "      <td>42</td>\n",
       "      <td>26.78</td>\n",
       "      <td>26.79</td>\n",
       "      <td>44</td>\n",
       "      <td>0.01</td>\n",
       "      <td>43.0</td>\n",
       "      <td>26.785</td>\n",
       "      <td>13</td>\n",
       "    </tr>\n",
       "    <tr>\n",
       "      <th>4</th>\n",
       "      <td>5</td>\n",
       "      <td>26.79</td>\n",
       "      <td>413</td>\n",
       "      <td>163</td>\n",
       "      <td>26.77</td>\n",
       "      <td>26.80</td>\n",
       "      <td>2</td>\n",
       "      <td>0.03</td>\n",
       "      <td>82.5</td>\n",
       "      <td>26.785</td>\n",
       "      <td>39</td>\n",
       "    </tr>\n",
       "    <tr>\n",
       "      <th>5</th>\n",
       "      <td>6</td>\n",
       "      <td>26.78</td>\n",
       "      <td>512</td>\n",
       "      <td>174</td>\n",
       "      <td>26.77</td>\n",
       "      <td>26.79</td>\n",
       "      <td>28</td>\n",
       "      <td>0.02</td>\n",
       "      <td>101.0</td>\n",
       "      <td>26.780</td>\n",
       "      <td>99</td>\n",
       "    </tr>\n",
       "    <tr>\n",
       "      <th>6</th>\n",
       "      <td>7</td>\n",
       "      <td>26.78</td>\n",
       "      <td>588</td>\n",
       "      <td>386</td>\n",
       "      <td>26.77</td>\n",
       "      <td>26.78</td>\n",
       "      <td>10</td>\n",
       "      <td>0.01</td>\n",
       "      <td>198.0</td>\n",
       "      <td>26.775</td>\n",
       "      <td>76</td>\n",
       "    </tr>\n",
       "    <tr>\n",
       "      <th>7</th>\n",
       "      <td>8</td>\n",
       "      <td>26.78</td>\n",
       "      <td>588</td>\n",
       "      <td>385</td>\n",
       "      <td>26.77</td>\n",
       "      <td>26.79</td>\n",
       "      <td>13</td>\n",
       "      <td>0.02</td>\n",
       "      <td>199.0</td>\n",
       "      <td>26.780</td>\n",
       "      <td>0</td>\n",
       "    </tr>\n",
       "    <tr>\n",
       "      <th>8</th>\n",
       "      <td>9</td>\n",
       "      <td>26.78</td>\n",
       "      <td>589</td>\n",
       "      <td>7</td>\n",
       "      <td>26.78</td>\n",
       "      <td>26.79</td>\n",
       "      <td>13</td>\n",
       "      <td>0.01</td>\n",
       "      <td>10.0</td>\n",
       "      <td>26.785</td>\n",
       "      <td>1</td>\n",
       "    </tr>\n",
       "    <tr>\n",
       "      <th>9</th>\n",
       "      <td>10</td>\n",
       "      <td>26.78</td>\n",
       "      <td>645</td>\n",
       "      <td>84</td>\n",
       "      <td>26.78</td>\n",
       "      <td>26.80</td>\n",
       "      <td>18</td>\n",
       "      <td>0.02</td>\n",
       "      <td>51.0</td>\n",
       "      <td>26.790</td>\n",
       "      <td>56</td>\n",
       "    </tr>\n",
       "  </tbody>\n",
       "</table>\n",
       "</div>"
      ],
      "text/plain": [
       "   updateCount  lastprice  volume  bidsize    bid    ask  asksize  spread  \\\n",
       "0            1      26.78     303      455  26.77  26.79        1    0.02   \n",
       "1            2      26.78     303      455  26.77  26.79        1    0.02   \n",
       "2            3      26.77     361      518  26.77  26.78        1    0.01   \n",
       "3            4      26.79     374       42  26.78  26.79       44    0.01   \n",
       "4            5      26.79     413      163  26.77  26.80        2    0.03   \n",
       "5            6      26.78     512      174  26.77  26.79       28    0.02   \n",
       "6            7      26.78     588      386  26.77  26.78       10    0.01   \n",
       "7            8      26.78     588      385  26.77  26.79       13    0.02   \n",
       "8            9      26.78     589        7  26.78  26.79       13    0.01   \n",
       "9           10      26.78     645       84  26.78  26.80       18    0.02   \n",
       "\n",
       "   marketsize     mid  curvolume  \n",
       "0       228.0  26.780          0  \n",
       "1       228.0  26.780          0  \n",
       "2       259.5  26.775         58  \n",
       "3        43.0  26.785         13  \n",
       "4        82.5  26.785         39  \n",
       "5       101.0  26.780         99  \n",
       "6       198.0  26.775         76  \n",
       "7       199.0  26.780          0  \n",
       "8        10.0  26.785          1  \n",
       "9        51.0  26.790         56  "
      ]
     },
     "execution_count": 65,
     "metadata": {},
     "output_type": "execute_result"
    }
   ],
   "source": [
    "df.head(10)"
   ]
  },
  {
   "cell_type": "code",
   "execution_count": 4,
   "metadata": {},
   "outputs": [
    {
     "data": {
      "text/plain": [
       "(50234, 7)"
      ]
     },
     "execution_count": 4,
     "metadata": {},
     "output_type": "execute_result"
    }
   ],
   "source": [
    "df.shape"
   ]
  },
  {
   "cell_type": "code",
   "execution_count": 63,
   "metadata": {},
   "outputs": [
    {
     "data": {
      "text/plain": [
       "<matplotlib.axes._subplots.AxesSubplot at 0x11d998710>"
      ]
     },
     "execution_count": 63,
     "metadata": {},
     "output_type": "execute_result"
    },
    {
     "data": {
      "image/png": "[encoded data removed]",
      "text/plain": [
       "<Figure size 432x288 with 1 Axes>"
      ]
     },
     "metadata": {
      "needs_background": "light"
     },
     "output_type": "display_data"
    }
   ],
   "source": [
    "df['lastprice'].plot()"
   ]
  },
  {
   "cell_type": "code",
   "execution_count": 6,
   "metadata": {},
   "outputs": [
    {
     "data": {
      "image/png": "[encoded data removed]",
      "text/plain": [
       "<Figure size 576x576 with 1 Axes>"
      ]
     },
     "metadata": {
      "needs_background": "light"
     },
     "output_type": "display_data"
    }
   ],
   "source": [
    "plt.figure(figsize=(8,8))\n",
    "ax = df['lastprice'].plot(color='r',linewidth=1)\n",
    "ax = df['bid'].plot(color='b',linewidth=1)\n",
    "ax = df['ask'].plot(color='g',linewidth=1)"
   ]
  },
  {
   "cell_type": "code",
   "execution_count": 7,
   "metadata": {},
   "outputs": [],
   "source": [
    "df['spread'] = (df['ask'] - df['bid']).apply(lambda x:round(x,4))"
   ]
  },
  {
   "cell_type": "code",
   "execution_count": 8,
   "metadata": {},
   "outputs": [
    {
     "data": {
      "text/plain": [
       "<matplotlib.axes._subplots.AxesSubplot at 0x118a5cb00>"
      ]
     },
     "execution_count": 8,
     "metadata": {},
     "output_type": "execute_result"
    },
    {
     "data": {
      "image/png": "[encoded data removed]",
      "text/plain": [
       "<Figure size 432x288 with 1 Axes>"
      ]
     },
     "metadata": {
      "needs_background": "light"
     },
     "output_type": "display_data"
    }
   ],
   "source": [
    "df['spread'].plot(color='g',linewidth=1)"
   ]
  },
  {
   "cell_type": "code",
   "execution_count": 10,
   "metadata": {},
   "outputs": [
    {
     "data": {
      "text/plain": [
       "0.01    49584\n",
       "0.02      649\n",
       "0.03        1\n",
       "Name: spread, dtype: int64"
      ]
     },
     "execution_count": 10,
     "metadata": {},
     "output_type": "execute_result"
    }
   ],
   "source": [
    "df['spread'].value_counts()"
   ]
  },
  {
   "cell_type": "code",
   "execution_count": null,
   "metadata": {},
   "outputs": [],
   "source": [
    "# Question 1"
   ]
  },
  {
   "cell_type": "code",
   "execution_count": 11,
   "metadata": {},
   "outputs": [
    {
     "name": "stdout",
     "output_type": "stream",
     "text": [
      "proportion of widen 0.004638292789743998\n",
      "proportion of tighten 0.004678106461758968\n",
      "proportion of equal 0.9906636939124895\n"
     ]
    }
   ],
   "source": [
    "print(\"proportion of widen\",(df['spread']>df['spread'].shift(1)).sum()/len(df['spread']))\n",
    "print(\"proportion of tighten\",(df['spread']<df['spread'].shift(1)).sum()/len(df['spread']))\n",
    "print(\"proportion of equal\",(df['spread']==df['spread'].shift(1)).sum()/len(df['spread']))"
   ]
  },
  {
   "cell_type": "code",
   "execution_count": 54,
   "metadata": {},
   "outputs": [
    {
     "name": "stdout",
     "output_type": "stream",
     "text": [
      "times when bid-ask spread widen: 233\n"
     ]
    }
   ],
   "source": [
    "# widen index\n",
    "index = df['spread']>df['spread'].shift(1)\n",
    "print(\"times when bid-ask spread widen:\",index.sum())"
   ]
  },
  {
   "cell_type": "code",
   "execution_count": 55,
   "metadata": {},
   "outputs": [
    {
     "name": "stdout",
     "output_type": "stream",
     "text": [
      "out of them, proportion that bid decreased and ask increased: 0.004291845493562232\n"
     ]
    }
   ],
   "source": [
    "index2 = (df['bid'] < df['bid'].shift(1))&(df['ask'] > df['ask'].shift(1))&index\n",
    "print(\"out of them, proportion that bid decreased and ask increased:\",index2.sum()/index.sum())"
   ]
  },
  {
   "cell_type": "code",
   "execution_count": 56,
   "metadata": {},
   "outputs": [
    {
     "name": "stdout",
     "output_type": "stream",
     "text": [
      "out of them, proportion that, bid decreased xor ask increased: 0.9957081545064378\n"
     ]
    }
   ],
   "source": [
    "index3 = ((df['bid'] < df['bid'].shift(1))^(df['ask'] > df['ask'].shift(1)))&index\n",
    "print(\"out of them, proportion that, bid decreased xor ask increased:\",index3.sum()/index.sum())"
   ]
  },
  {
   "cell_type": "code",
   "execution_count": 21,
   "metadata": {},
   "outputs": [
    {
     "name": "stdout",
     "output_type": "stream",
     "text": [
      "times when bid-ask spread tighten: 235\n"
     ]
    }
   ],
   "source": [
    "# tighten index\n",
    "index_tight = df['spread']<df['spread'].shift(1)\n",
    "print(\"times when bid-ask spread tighten:\",index_tight.sum())"
   ]
  },
  {
   "cell_type": "code",
   "execution_count": 22,
   "metadata": {},
   "outputs": [],
   "source": [
    "df['marketsize'] = (df['asksize']+df['bidsize'])/2"
   ]
  },
  {
   "cell_type": "code",
   "execution_count": 30,
   "metadata": {},
   "outputs": [],
   "source": [
    "values = df['marketsize'].values"
   ]
  },
  {
   "cell_type": "code",
   "execution_count": 34,
   "metadata": {},
   "outputs": [],
   "source": [
    "t = []\n",
    "for i in range(len(values)):\n",
    "    if i>=5 and i+5<=len(values):\n",
    "        t.append(values[i-5:i+5].mean())\n",
    "    else:\n",
    "        t.append(values[i])\n",
    "t = np.array(t) "
   ]
  },
  {
   "cell_type": "code",
   "execution_count": 39,
   "metadata": {},
   "outputs": [
    {
     "data": {
      "text/plain": [
       "Text(0.5,1,'distribution of market size')"
      ]
     },
     "execution_count": 39,
     "metadata": {},
     "output_type": "execute_result"
    },
    {
     "data": {
      "image/png": "[encoded data removed]",
      "text/plain": [
       "<Figure size 576x576 with 1 Axes>"
      ]
     },
     "metadata": {
      "needs_background": "light"
     },
     "output_type": "display_data"
    }
   ],
   "source": [
    "plt.figure(figsize=(8,8))\n",
    "ax = df['marketsize'].plot(color='r',linewidth=0.5)\n",
    "# plt.plot(df['updateCount'],t,'b',linewidth=0.5)\n",
    "ax.set_title(\"distribution of market size\")"
   ]
  },
  {
   "cell_type": "markdown",
   "metadata": {},
   "source": [
    "# Question 2"
   ]
  },
  {
   "cell_type": "code",
   "execution_count": 27,
   "metadata": {},
   "outputs": [],
   "source": [
    "df['mid'] = (df['ask']+df['bid'])/2"
   ]
  },
  {
   "cell_type": "code",
   "execution_count": 41,
   "metadata": {},
   "outputs": [
    {
     "data": {
      "text/plain": [
       "Text(0.5,1,'distribution of mid price')"
      ]
     },
     "execution_count": 41,
     "metadata": {},
     "output_type": "execute_result"
    },
    {
     "data": {
      "image/png": "[encoded data removed]",
      "text/plain": [
       "<Figure size 432x432 with 1 Axes>"
      ]
     },
     "metadata": {
      "needs_background": "light"
     },
     "output_type": "display_data"
    }
   ],
   "source": [
    "plt.figure(figsize=(6,6))\n",
    "ax = df['mid'].plot(color='r',linewidth=0.5)\n",
    "ax.set_title(\"distribution of mid price\")"
   ]
  },
  {
   "cell_type": "code",
   "execution_count": 45,
   "metadata": {},
   "outputs": [],
   "source": [
    "#mid price开始变大，但是spread不变\n",
    "index = (df['mid']>df['mid'].shift(1,fill_value=float(\"inf\")))&(df['spread']==df['spread'].shift(1))\n",
    "index2 = index & ~index.shift(1,fill_value=True)"
   ]
  },
  {
   "cell_type": "code",
   "execution_count": 50,
   "metadata": {},
   "outputs": [
    {
     "data": {
      "text/plain": [
       "<matplotlib.legend.Legend at 0x11d71edd8>"
      ]
     },
     "execution_count": 50,
     "metadata": {},
     "output_type": "execute_result"
    },
    {
     "data": {
      "image/png": "[encoded data removed]",
      "text/plain": [
       "<Figure size 432x432 with 1 Axes>"
      ]
     },
     "metadata": {
      "needs_background": "light"
     },
     "output_type": "display_data"
    }
   ],
   "source": [
    "# 当价格开始变大，但是价差不变的情况下，买的人比卖的人多,买涨\n",
    "index = (df['mid']>df['mid'].shift(1,fill_value=0))&(df['spread']==df['spread'].shift(1))#mid price开始变大\n",
    "plt.figure(figsize=(6,6))\n",
    "font = {'family' : 'sans-serif',\n",
    "        'size'   : 12}\n",
    "plt.rc('font', **font)\n",
    "plt.plot(df[index].index,df[index]['asksize'],'r',label='asksize')\n",
    "plt.plot(df[index].index,df[index]['bidsize'],'b',label='bidsize')\n",
    "plt.title(\"mid price increases but the bid-ask spread does not\")\n",
    "plt.legend(loc=0)"
   ]
  },
  {
   "cell_type": "code",
   "execution_count": 51,
   "metadata": {},
   "outputs": [
    {
     "data": {
      "text/plain": [
       "<matplotlib.legend.Legend at 0x11cf315f8>"
      ]
     },
     "execution_count": 51,
     "metadata": {},
     "output_type": "execute_result"
    },
    {
     "data": {
      "image/png": "[encoded data removed]",
      "text/plain": [
       "<Figure size 432x432 with 1 Axes>"
      ]
     },
     "metadata": {
      "needs_background": "light"
     },
     "output_type": "display_data"
    }
   ],
   "source": [
    "# 当价格开始变小，但是价差不变的情况下，卖的人比买的人多，卖跌\n",
    "index = (df['mid']<df['mid'].shift(1,fill_value=0))&(df['spread']==df['spread'].shift(1))#mid price开始变小\n",
    "plt.figure(figsize=(6,6))\n",
    "font = {'family' : 'sans-serif',\n",
    "        'size'   : 12}\n",
    "plt.rc('font', **font)\n",
    "plt.plot(df[index].index,df[index]['asksize'],'r')\n",
    "plt.plot(df[index].index,df[index]['bidsize'],'b')\n",
    "plt.title(\"mid price decreases but the bid-ask spread does not\")\n",
    "plt.legend(loc=0)"
   ]
  },
  {
   "cell_type": "markdown",
   "metadata": {},
   "source": [
    "# Q2 结论\n",
    "#### 在bid-ask spread不变的情况下\n",
    "- 当mid price增加的时候，买的量比卖的量多，原因为买涨；\n",
    "- 相反，当mid price减小的时候，卖的量比买的量多，原因为卖跌"
   ]
  },
  {
   "cell_type": "markdown",
   "metadata": {},
   "source": [
    "# Q3\n",
    "关于volume分配，可以有以下几种考量\n",
    "1. 所有volume都是在last price上交易\n",
    "2. 不考虑last price，根据bidsize和asksize，在bid与ask上进行按比例分配\n",
    "\n",
    "考虑到价差较小，目前先按照最简单的考虑，全部在last price上交易，如果后续模型需要，再更新分配策略"
   ]
  },
  {
   "cell_type": "code",
   "execution_count": 59,
   "metadata": {},
   "outputs": [],
   "source": [
    "# 当前交易了的量\n",
    "df['curvolume'] = df['volume'] - df['volume'].shift(1,fill_value=0)\n",
    "df.loc[0,\"curvolume\"] = 0"
   ]
  },
  {
   "cell_type": "code",
   "execution_count": 73,
   "metadata": {},
   "outputs": [],
   "source": [
    "# 不同价格的change没有意义，故暂时删除\n",
    "df['bidchange'] = df['bidsize']-df['bidsize'].shift(1,fill_value=0)+df['curvolume']\n",
    "df['askchange'] = df['asksize']-df['asksize'].shift(1,fill_value=0)+df['curvolume']\n",
    "df.loc[0,\"bidchange\"] = 0\n",
    "df.loc[0,\"askchange\"] = 0\n",
    "\n",
    "df.drop([\"bidchange\",\"askchange\"],axis=1,inplace=True)"
   ]
  },
  {
   "cell_type": "code",
   "execution_count": 74,
   "metadata": {},
   "outputs": [
    {
     "data": {
      "text/html": [
       "<div>\n",
       "<style scoped>\n",
       "    .dataframe tbody tr th:only-of-type {\n",
       "        vertical-align: middle;\n",
       "    }\n",
       "\n",
       "    .dataframe tbody tr th {\n",
       "        vertical-align: top;\n",
       "    }\n",
       "\n",
       "    .dataframe thead th {\n",
       "        text-align: right;\n",
       "    }\n",
       "</style>\n",
       "<table border=\"1\" class=\"dataframe\">\n",
       "  <thead>\n",
       "    <tr style=\"text-align: right;\">\n",
       "      <th></th>\n",
       "      <th>updateCount</th>\n",
       "      <th>lastprice</th>\n",
       "      <th>volume</th>\n",
       "      <th>bidsize</th>\n",
       "      <th>bid</th>\n",
       "      <th>ask</th>\n",
       "      <th>asksize</th>\n",
       "      <th>spread</th>\n",
       "      <th>marketsize</th>\n",
       "      <th>mid</th>\n",
       "      <th>curvolume</th>\n",
       "    </tr>\n",
       "  </thead>\n",
       "  <tbody>\n",
       "    <tr>\n",
       "      <th>0</th>\n",
       "      <td>1</td>\n",
       "      <td>26.78</td>\n",
       "      <td>303</td>\n",
       "      <td>455</td>\n",
       "      <td>26.77</td>\n",
       "      <td>26.79</td>\n",
       "      <td>1</td>\n",
       "      <td>0.02</td>\n",
       "      <td>228.0</td>\n",
       "      <td>26.780</td>\n",
       "      <td>0</td>\n",
       "    </tr>\n",
       "    <tr>\n",
       "      <th>1</th>\n",
       "      <td>2</td>\n",
       "      <td>26.78</td>\n",
       "      <td>303</td>\n",
       "      <td>455</td>\n",
       "      <td>26.77</td>\n",
       "      <td>26.79</td>\n",
       "      <td>1</td>\n",
       "      <td>0.02</td>\n",
       "      <td>228.0</td>\n",
       "      <td>26.780</td>\n",
       "      <td>0</td>\n",
       "    </tr>\n",
       "    <tr>\n",
       "      <th>2</th>\n",
       "      <td>3</td>\n",
       "      <td>26.77</td>\n",
       "      <td>361</td>\n",
       "      <td>518</td>\n",
       "      <td>26.77</td>\n",
       "      <td>26.78</td>\n",
       "      <td>1</td>\n",
       "      <td>0.01</td>\n",
       "      <td>259.5</td>\n",
       "      <td>26.775</td>\n",
       "      <td>58</td>\n",
       "    </tr>\n",
       "    <tr>\n",
       "      <th>3</th>\n",
       "      <td>4</td>\n",
       "      <td>26.79</td>\n",
       "      <td>374</td>\n",
       "      <td>42</td>\n",
       "      <td>26.78</td>\n",
       "      <td>26.79</td>\n",
       "      <td>44</td>\n",
       "      <td>0.01</td>\n",
       "      <td>43.0</td>\n",
       "      <td>26.785</td>\n",
       "      <td>13</td>\n",
       "    </tr>\n",
       "    <tr>\n",
       "      <th>4</th>\n",
       "      <td>5</td>\n",
       "      <td>26.79</td>\n",
       "      <td>413</td>\n",
       "      <td>163</td>\n",
       "      <td>26.77</td>\n",
       "      <td>26.80</td>\n",
       "      <td>2</td>\n",
       "      <td>0.03</td>\n",
       "      <td>82.5</td>\n",
       "      <td>26.785</td>\n",
       "      <td>39</td>\n",
       "    </tr>\n",
       "    <tr>\n",
       "      <th>5</th>\n",
       "      <td>6</td>\n",
       "      <td>26.78</td>\n",
       "      <td>512</td>\n",
       "      <td>174</td>\n",
       "      <td>26.77</td>\n",
       "      <td>26.79</td>\n",
       "      <td>28</td>\n",
       "      <td>0.02</td>\n",
       "      <td>101.0</td>\n",
       "      <td>26.780</td>\n",
       "      <td>99</td>\n",
       "    </tr>\n",
       "    <tr>\n",
       "      <th>6</th>\n",
       "      <td>7</td>\n",
       "      <td>26.78</td>\n",
       "      <td>588</td>\n",
       "      <td>386</td>\n",
       "      <td>26.77</td>\n",
       "      <td>26.78</td>\n",
       "      <td>10</td>\n",
       "      <td>0.01</td>\n",
       "      <td>198.0</td>\n",
       "      <td>26.775</td>\n",
       "      <td>76</td>\n",
       "    </tr>\n",
       "    <tr>\n",
       "      <th>7</th>\n",
       "      <td>8</td>\n",
       "      <td>26.78</td>\n",
       "      <td>588</td>\n",
       "      <td>385</td>\n",
       "      <td>26.77</td>\n",
       "      <td>26.79</td>\n",
       "      <td>13</td>\n",
       "      <td>0.02</td>\n",
       "      <td>199.0</td>\n",
       "      <td>26.780</td>\n",
       "      <td>0</td>\n",
       "    </tr>\n",
       "    <tr>\n",
       "      <th>8</th>\n",
       "      <td>9</td>\n",
       "      <td>26.78</td>\n",
       "      <td>589</td>\n",
       "      <td>7</td>\n",
       "      <td>26.78</td>\n",
       "      <td>26.79</td>\n",
       "      <td>13</td>\n",
       "      <td>0.01</td>\n",
       "      <td>10.0</td>\n",
       "      <td>26.785</td>\n",
       "      <td>1</td>\n",
       "    </tr>\n",
       "    <tr>\n",
       "      <th>9</th>\n",
       "      <td>10</td>\n",
       "      <td>26.78</td>\n",
       "      <td>645</td>\n",
       "      <td>84</td>\n",
       "      <td>26.78</td>\n",
       "      <td>26.80</td>\n",
       "      <td>18</td>\n",
       "      <td>0.02</td>\n",
       "      <td>51.0</td>\n",
       "      <td>26.790</td>\n",
       "      <td>56</td>\n",
       "    </tr>\n",
       "    <tr>\n",
       "      <th>10</th>\n",
       "      <td>11</td>\n",
       "      <td>26.78</td>\n",
       "      <td>645</td>\n",
       "      <td>85</td>\n",
       "      <td>26.78</td>\n",
       "      <td>26.80</td>\n",
       "      <td>18</td>\n",
       "      <td>0.02</td>\n",
       "      <td>51.5</td>\n",
       "      <td>26.790</td>\n",
       "      <td>0</td>\n",
       "    </tr>\n",
       "    <tr>\n",
       "      <th>11</th>\n",
       "      <td>12</td>\n",
       "      <td>26.78</td>\n",
       "      <td>650</td>\n",
       "      <td>99</td>\n",
       "      <td>26.78</td>\n",
       "      <td>26.79</td>\n",
       "      <td>1</td>\n",
       "      <td>0.01</td>\n",
       "      <td>50.0</td>\n",
       "      <td>26.785</td>\n",
       "      <td>5</td>\n",
       "    </tr>\n",
       "  </tbody>\n",
       "</table>\n",
       "</div>"
      ],
      "text/plain": [
       "    updateCount  lastprice  volume  bidsize    bid    ask  asksize  spread  \\\n",
       "0             1      26.78     303      455  26.77  26.79        1    0.02   \n",
       "1             2      26.78     303      455  26.77  26.79        1    0.02   \n",
       "2             3      26.77     361      518  26.77  26.78        1    0.01   \n",
       "3             4      26.79     374       42  26.78  26.79       44    0.01   \n",
       "4             5      26.79     413      163  26.77  26.80        2    0.03   \n",
       "5             6      26.78     512      174  26.77  26.79       28    0.02   \n",
       "6             7      26.78     588      386  26.77  26.78       10    0.01   \n",
       "7             8      26.78     588      385  26.77  26.79       13    0.02   \n",
       "8             9      26.78     589        7  26.78  26.79       13    0.01   \n",
       "9            10      26.78     645       84  26.78  26.80       18    0.02   \n",
       "10           11      26.78     645       85  26.78  26.80       18    0.02   \n",
       "11           12      26.78     650       99  26.78  26.79        1    0.01   \n",
       "\n",
       "    marketsize     mid  curvolume  \n",
       "0        228.0  26.780          0  \n",
       "1        228.0  26.780          0  \n",
       "2        259.5  26.775         58  \n",
       "3         43.0  26.785         13  \n",
       "4         82.5  26.785         39  \n",
       "5        101.0  26.780         99  \n",
       "6        198.0  26.775         76  \n",
       "7        199.0  26.780          0  \n",
       "8         10.0  26.785          1  \n",
       "9         51.0  26.790         56  \n",
       "10        51.5  26.790          0  \n",
       "11        50.0  26.785          5  "
      ]
     },
     "execution_count": 74,
     "metadata": {},
     "output_type": "execute_result"
    }
   ],
   "source": [
    "df.head(12)"
   ]
  },
  {
   "cell_type": "markdown",
   "metadata": {},
   "source": [
    "# Q4\n",
    "- sizeDeltaAtBid表示的是价格不变的时候，该价格所挂的bid order改变的数量\n",
    "- sizeDeltaAtAsk表示的是价格不变的时候，该价格所挂的ask order改变的数量"
   ]
  },
  {
   "cell_type": "code",
   "execution_count": 75,
   "metadata": {},
   "outputs": [],
   "source": [
    "df[\"sizeDeltaAtBid\"] = df['bidsize']-df['bidsize'].shift(1,fill_value=0) + (df['volume']-df['volume'].shift(1,fill_value=0))\n",
    "df.loc[df['bid']!=df['bid'].shift(1),\"sizeDeltaAtBid\"]=np.nan\n",
    "\n",
    "df[\"sizeDeltaAtAsk\"] = df['asksize']-df['asksize'].shift(1,fill_value=0) + (df['volume']-df['volume'].shift(1,fill_value=0))\n",
    "df.loc[df['ask']!=df['ask'].shift(1),\"sizeDeltaAtAsk\"]=np.nan\n"
   ]
  },
  {
   "cell_type": "code",
   "execution_count": 119,
   "metadata": {},
   "outputs": [
    {
     "data": {
      "text/html": [
       "<div>\n",
       "<style scoped>\n",
       "    .dataframe tbody tr th:only-of-type {\n",
       "        vertical-align: middle;\n",
       "    }\n",
       "\n",
       "    .dataframe tbody tr th {\n",
       "        vertical-align: top;\n",
       "    }\n",
       "\n",
       "    .dataframe thead th {\n",
       "        text-align: right;\n",
       "    }\n",
       "</style>\n",
       "<table border=\"1\" class=\"dataframe\">\n",
       "  <thead>\n",
       "    <tr style=\"text-align: right;\">\n",
       "      <th></th>\n",
       "      <th>updateCount</th>\n",
       "      <th>lastprice</th>\n",
       "      <th>volume</th>\n",
       "      <th>bidsize</th>\n",
       "      <th>bid</th>\n",
       "      <th>ask</th>\n",
       "      <th>asksize</th>\n",
       "      <th>spread</th>\n",
       "      <th>marketsize</th>\n",
       "      <th>mid</th>\n",
       "      <th>curvolume</th>\n",
       "      <th>sizeDeltaAtBid</th>\n",
       "      <th>sizeDeltaAtAsk</th>\n",
       "    </tr>\n",
       "  </thead>\n",
       "  <tbody>\n",
       "    <tr>\n",
       "      <th>0</th>\n",
       "      <td>1</td>\n",
       "      <td>26.78</td>\n",
       "      <td>303</td>\n",
       "      <td>455</td>\n",
       "      <td>26.77</td>\n",
       "      <td>26.79</td>\n",
       "      <td>1</td>\n",
       "      <td>0.02</td>\n",
       "      <td>228.0</td>\n",
       "      <td>26.780</td>\n",
       "      <td>0</td>\n",
       "      <td>NaN</td>\n",
       "      <td>NaN</td>\n",
       "    </tr>\n",
       "    <tr>\n",
       "      <th>1</th>\n",
       "      <td>2</td>\n",
       "      <td>26.78</td>\n",
       "      <td>303</td>\n",
       "      <td>455</td>\n",
       "      <td>26.77</td>\n",
       "      <td>26.79</td>\n",
       "      <td>1</td>\n",
       "      <td>0.02</td>\n",
       "      <td>228.0</td>\n",
       "      <td>26.780</td>\n",
       "      <td>0</td>\n",
       "      <td>0.0</td>\n",
       "      <td>0.0</td>\n",
       "    </tr>\n",
       "    <tr>\n",
       "      <th>2</th>\n",
       "      <td>3</td>\n",
       "      <td>26.77</td>\n",
       "      <td>361</td>\n",
       "      <td>518</td>\n",
       "      <td>26.77</td>\n",
       "      <td>26.78</td>\n",
       "      <td>1</td>\n",
       "      <td>0.01</td>\n",
       "      <td>259.5</td>\n",
       "      <td>26.775</td>\n",
       "      <td>58</td>\n",
       "      <td>121.0</td>\n",
       "      <td>NaN</td>\n",
       "    </tr>\n",
       "    <tr>\n",
       "      <th>3</th>\n",
       "      <td>4</td>\n",
       "      <td>26.79</td>\n",
       "      <td>374</td>\n",
       "      <td>42</td>\n",
       "      <td>26.78</td>\n",
       "      <td>26.79</td>\n",
       "      <td>44</td>\n",
       "      <td>0.01</td>\n",
       "      <td>43.0</td>\n",
       "      <td>26.785</td>\n",
       "      <td>13</td>\n",
       "      <td>NaN</td>\n",
       "      <td>NaN</td>\n",
       "    </tr>\n",
       "    <tr>\n",
       "      <th>4</th>\n",
       "      <td>5</td>\n",
       "      <td>26.79</td>\n",
       "      <td>413</td>\n",
       "      <td>163</td>\n",
       "      <td>26.77</td>\n",
       "      <td>26.80</td>\n",
       "      <td>2</td>\n",
       "      <td>0.03</td>\n",
       "      <td>82.5</td>\n",
       "      <td>26.785</td>\n",
       "      <td>39</td>\n",
       "      <td>NaN</td>\n",
       "      <td>NaN</td>\n",
       "    </tr>\n",
       "  </tbody>\n",
       "</table>\n",
       "</div>"
      ],
      "text/plain": [
       "   updateCount  lastprice  volume  bidsize    bid    ask  asksize  spread  \\\n",
       "0            1      26.78     303      455  26.77  26.79        1    0.02   \n",
       "1            2      26.78     303      455  26.77  26.79        1    0.02   \n",
       "2            3      26.77     361      518  26.77  26.78        1    0.01   \n",
       "3            4      26.79     374       42  26.78  26.79       44    0.01   \n",
       "4            5      26.79     413      163  26.77  26.80        2    0.03   \n",
       "\n",
       "   marketsize     mid  curvolume  sizeDeltaAtBid  sizeDeltaAtAsk  \n",
       "0       228.0  26.780          0             NaN             NaN  \n",
       "1       228.0  26.780          0             0.0             0.0  \n",
       "2       259.5  26.775         58           121.0             NaN  \n",
       "3        43.0  26.785         13             NaN             NaN  \n",
       "4        82.5  26.785         39             NaN             NaN  "
      ]
     },
     "execution_count": 119,
     "metadata": {},
     "output_type": "execute_result"
    }
   ],
   "source": [
    "df.head()"
   ]
  },
  {
   "cell_type": "code",
   "execution_count": 95,
   "metadata": {},
   "outputs": [
    {
     "data": {
      "text/plain": [
       "Text(0.5,1,'distribution of sizeDeltaAtAsk')"
      ]
     },
     "execution_count": 95,
     "metadata": {},
     "output_type": "execute_result"
    },
    {
     "data": {
      "image/png": "[encoded data removed]",
      "text/plain": [
       "<Figure size 1008x504 with 4 Axes>"
      ]
     },
     "metadata": {
      "needs_background": "light"
     },
     "output_type": "display_data"
    }
   ],
   "source": [
    "fig,(ax,ax2) = plt.subplots(1,2,figsize=(14,7))\n",
    "font = {'family' : 'sans-serif',\n",
    "        'size'   : 12}\n",
    "plt.rc('font', **font)\n",
    "lns1 = ax.plot(df.index,df['sizeDeltaAtBid'],'b',label='Bid size change')\n",
    "# plt.plot(df.index,df['sizeDeltaAtAsk'],'r',alpha=0.5,label='Asksize')\n",
    "ax.set_title(\"distribution of sizeDeltaAtBid\")\n",
    "\n",
    "ax_twin = ax.twinx()\n",
    "lns2 = ax_twin.plot(df.index,df['mid'],'r',label='mid price')\n",
    "\n",
    "lns = lns1+lns2\n",
    "labs = [l.get_label() for l in lns]\n",
    "ax.legend(lns, labs, loc=0)\n",
    "\n",
    "##############\n",
    "lns1 = ax2.plot(df.index,df['sizeDeltaAtAsk'],'b',label='Ask size change')\n",
    "# plt.plot(df.index,df['sizeDeltaAtAsk'],'r',alpha=0.5,label='Asksize')\n",
    "# plt.title(\"distribution of sizeDeltaAtBid,sizeDeltaAtAsk\")\n",
    "\n",
    "ax_twin = ax2.twinx()\n",
    "lns2 = ax_twin.plot(df.index,df['mid'],'r',label='mid price')\n",
    "\n",
    "lns = lns1+lns2\n",
    "labs = [l.get_label() for l in lns]\n",
    "ax2.legend(lns, labs, loc=0)\n",
    "ax2.set_title(\"distribution of sizeDeltaAtAsk\")"
   ]
  },
  {
   "cell_type": "markdown",
   "metadata": {},
   "source": [
    "##  Q4分析，为便于观察，只关注一边的情况，左边图为bid的情况，也就是买方，右边为ask情况，也就是卖方，以上图可以明显看出\n",
    "1. 在价格下跌的过程中，尤其是时间点40000左右的部分，价格下跌，买方订单急剧减少\n",
    "2. 在价格上涨的过程中，尤其是时间点22000左右的部分，价格上涨，卖方订单急剧减少"
   ]
  },
  {
   "cell_type": "code",
   "execution_count": 115,
   "metadata": {},
   "outputs": [
    {
     "data": {
      "text/plain": [
       "Text(0.5,1,'distribution of sizeDeltaAtAsk for size decrease')"
      ]
     },
     "execution_count": 115,
     "metadata": {},
     "output_type": "execute_result"
    },
    {
     "data": {
      "image/png": "[encoded data removed]",
      "text/plain": [
       "<Figure size 1008x504 with 4 Axes>"
      ]
     },
     "metadata": {
      "needs_background": "light"
     },
     "output_type": "display_data"
    }
   ],
   "source": [
    "\n",
    "# index = df['mid']==(df['mid'].shift(1,fill_value=0))\n",
    "index = df['sizeDeltaAtBid']<0\n",
    "fig,(ax,ax2) = plt.subplots(1,2,figsize=(14,7))\n",
    "font = {'family' : 'sans-serif',\n",
    "        'size'   : 12}\n",
    "plt.rc('font', **font)\n",
    "lns1 = ax.plot(df[index].index,df[index]['sizeDeltaAtBid'],'b',label='Bid size change')\n",
    "# plt.plot(df.index,df['sizeDeltaAtAsk'],'r',alpha=0.5,label='Asksize')\n",
    "ax.set_title(\"distribution of sizeDeltaAtBid for size decrease\")\n",
    "\n",
    "ax_twin = ax.twinx()\n",
    "lns2 = ax_twin.plot(df[index].index,df[index]['mid'],'r',label='mid price')\n",
    "\n",
    "lns = lns1+lns2\n",
    "labs = [l.get_label() for l in lns]\n",
    "ax.legend(lns, labs, loc=0)\n",
    "\n",
    "##############\n",
    "\n",
    "index = df['sizeDeltaAtAsk']<0\n",
    "lns1 = ax2.plot(df[index].index,df[index]['sizeDeltaAtAsk'],'b',label='Ask size change')\n",
    "# plt.plot(df.index,df['sizeDeltaAtAsk'],'r',alpha=0.5,label='Asksize')\n",
    "# plt.title(\"distribution of sizeDeltaAtBid,sizeDeltaAtAsk\")\n",
    "\n",
    "ax_twin = ax2.twinx()\n",
    "lns2 = ax_twin.plot(df[index].index,df[index]['mid'],'r',label='mid price')\n",
    "\n",
    "lns = lns1+lns2\n",
    "labs = [l.get_label() for l in lns]\n",
    "ax2.legend(lns, labs, loc=0)\n",
    "ax2.set_title(\"distribution of sizeDeltaAtAsk for size decrease\")\n"
   ]
  },
  {
   "cell_type": "markdown",
   "metadata": {},
   "source": [
    "# Question 5\n",
    "Now we will focus on the aggressive side. Assume the size on the aggressive side we see immediately after a price change is from a single limit order, which we call the top order.\n",
    "\n",
    "个人觉得题目意思在这里不清晰，不清楚这里的aggressive的定义是否与第二问中相关，不知道是否有要求spread不变，mid price变化\n",
    "这个定义的区别很重要，直接影响了后面的计算\n",
    "\n",
    "1. 按照个人理解，这里的price change应该指的是aggressive方的价格，而不是中间价\n",
    "2. 但是不知道是否同时需要满足，中间价变化，但是spread不变\n",
    "2. aggressive方，也就是价格上涨中的bid方，或者下跌中的ask方，此时的size为top order\n",
    "\n",
    "订单的可能去向，按照我的理解\n",
    "1. 被填充交易了\n",
    "2. 出现了更高的价格，该订单不再位于limit order book中，目前我的理解是不再位于BBO，指的就是这种\n",
    "3. 取消了\n"
   ]
  },
  {
   "cell_type": "code",
   "execution_count": 133,
   "metadata": {},
   "outputs": [
    {
     "data": {
      "text/plain": [
       "565"
      ]
     },
     "execution_count": 133,
     "metadata": {},
     "output_type": "execute_result"
    }
   ],
   "source": [
    "# 价格上涨，bid为aggressive方\n",
    "# index = (df['mid']>df['mid'].shift(1,fill_value=float(\"inf\")))&(df['spread']==df['spread'].shift(1))\\\n",
    "# &(df['bid']>df['bid'].shift(1,fill_value=float(\"inf\")))\n",
    "# index.sum()"
   ]
  },
  {
   "cell_type": "code",
   "execution_count": 142,
   "metadata": {},
   "outputs": [],
   "source": [
    "# bid价格上涨，买方的aggressive方情况\n",
    "index = (df['bid']>df['bid'].shift(1,fill_value=float(\"inf\")))"
   ]
  },
  {
   "cell_type": "code",
   "execution_count": 143,
   "metadata": {},
   "outputs": [],
   "source": [
    "df.loc[index,\"top_bid\"] = True"
   ]
  },
  {
   "cell_type": "code",
   "execution_count": 193,
   "metadata": {},
   "outputs": [
    {
     "data": {
      "text/html": [
       "<div>\n",
       "<style scoped>\n",
       "    .dataframe tbody tr th:only-of-type {\n",
       "        vertical-align: middle;\n",
       "    }\n",
       "\n",
       "    .dataframe tbody tr th {\n",
       "        vertical-align: top;\n",
       "    }\n",
       "\n",
       "    .dataframe thead th {\n",
       "        text-align: right;\n",
       "    }\n",
       "</style>\n",
       "<table border=\"1\" class=\"dataframe\">\n",
       "  <thead>\n",
       "    <tr style=\"text-align: right;\">\n",
       "      <th></th>\n",
       "      <th>updateCount</th>\n",
       "      <th>lastprice</th>\n",
       "      <th>volume</th>\n",
       "      <th>bidsize</th>\n",
       "      <th>bid</th>\n",
       "      <th>ask</th>\n",
       "      <th>asksize</th>\n",
       "      <th>spread</th>\n",
       "      <th>marketsize</th>\n",
       "      <th>mid</th>\n",
       "      <th>curvolume</th>\n",
       "      <th>sizeDeltaAtBid</th>\n",
       "      <th>sizeDeltaAtAsk</th>\n",
       "      <th>top_bid</th>\n",
       "    </tr>\n",
       "  </thead>\n",
       "  <tbody>\n",
       "    <tr>\n",
       "      <th>0</th>\n",
       "      <td>1</td>\n",
       "      <td>26.78</td>\n",
       "      <td>303</td>\n",
       "      <td>455</td>\n",
       "      <td>26.77</td>\n",
       "      <td>26.79</td>\n",
       "      <td>1</td>\n",
       "      <td>0.02</td>\n",
       "      <td>228.0</td>\n",
       "      <td>26.780</td>\n",
       "      <td>0</td>\n",
       "      <td>NaN</td>\n",
       "      <td>NaN</td>\n",
       "      <td>NaN</td>\n",
       "    </tr>\n",
       "    <tr>\n",
       "      <th>1</th>\n",
       "      <td>2</td>\n",
       "      <td>26.78</td>\n",
       "      <td>303</td>\n",
       "      <td>455</td>\n",
       "      <td>26.77</td>\n",
       "      <td>26.79</td>\n",
       "      <td>1</td>\n",
       "      <td>0.02</td>\n",
       "      <td>228.0</td>\n",
       "      <td>26.780</td>\n",
       "      <td>0</td>\n",
       "      <td>0.0</td>\n",
       "      <td>0.0</td>\n",
       "      <td>NaN</td>\n",
       "    </tr>\n",
       "    <tr>\n",
       "      <th>2</th>\n",
       "      <td>3</td>\n",
       "      <td>26.77</td>\n",
       "      <td>361</td>\n",
       "      <td>518</td>\n",
       "      <td>26.77</td>\n",
       "      <td>26.78</td>\n",
       "      <td>1</td>\n",
       "      <td>0.01</td>\n",
       "      <td>259.5</td>\n",
       "      <td>26.775</td>\n",
       "      <td>58</td>\n",
       "      <td>121.0</td>\n",
       "      <td>NaN</td>\n",
       "      <td>NaN</td>\n",
       "    </tr>\n",
       "    <tr>\n",
       "      <th>3</th>\n",
       "      <td>4</td>\n",
       "      <td>26.79</td>\n",
       "      <td>374</td>\n",
       "      <td>42</td>\n",
       "      <td>26.78</td>\n",
       "      <td>26.79</td>\n",
       "      <td>44</td>\n",
       "      <td>0.01</td>\n",
       "      <td>43.0</td>\n",
       "      <td>26.785</td>\n",
       "      <td>13</td>\n",
       "      <td>NaN</td>\n",
       "      <td>NaN</td>\n",
       "      <td>True</td>\n",
       "    </tr>\n",
       "    <tr>\n",
       "      <th>4</th>\n",
       "      <td>5</td>\n",
       "      <td>26.79</td>\n",
       "      <td>413</td>\n",
       "      <td>163</td>\n",
       "      <td>26.77</td>\n",
       "      <td>26.80</td>\n",
       "      <td>2</td>\n",
       "      <td>0.03</td>\n",
       "      <td>82.5</td>\n",
       "      <td>26.785</td>\n",
       "      <td>39</td>\n",
       "      <td>NaN</td>\n",
       "      <td>NaN</td>\n",
       "      <td>NaN</td>\n",
       "    </tr>\n",
       "  </tbody>\n",
       "</table>\n",
       "</div>"
      ],
      "text/plain": [
       "   updateCount  lastprice  volume  bidsize    bid    ask  asksize  spread  \\\n",
       "0            1      26.78     303      455  26.77  26.79        1    0.02   \n",
       "1            2      26.78     303      455  26.77  26.79        1    0.02   \n",
       "2            3      26.77     361      518  26.77  26.78        1    0.01   \n",
       "3            4      26.79     374       42  26.78  26.79       44    0.01   \n",
       "4            5      26.79     413      163  26.77  26.80        2    0.03   \n",
       "\n",
       "   marketsize     mid  curvolume  sizeDeltaAtBid  sizeDeltaAtAsk top_bid  \n",
       "0       228.0  26.780          0             NaN             NaN     NaN  \n",
       "1       228.0  26.780          0             0.0             0.0     NaN  \n",
       "2       259.5  26.775         58           121.0             NaN     NaN  \n",
       "3        43.0  26.785         13             NaN             NaN    True  \n",
       "4        82.5  26.785         39             NaN             NaN     NaN  "
      ]
     },
     "execution_count": 193,
     "metadata": {},
     "output_type": "execute_result"
    }
   ],
   "source": [
    "df.head()"
   ]
  },
  {
   "cell_type": "code",
   "execution_count": 194,
   "metadata": {},
   "outputs": [
    {
     "data": {
      "text/html": [
       "<div>\n",
       "<style scoped>\n",
       "    .dataframe tbody tr th:only-of-type {\n",
       "        vertical-align: middle;\n",
       "    }\n",
       "\n",
       "    .dataframe tbody tr th {\n",
       "        vertical-align: top;\n",
       "    }\n",
       "\n",
       "    .dataframe thead th {\n",
       "        text-align: right;\n",
       "    }\n",
       "</style>\n",
       "<table border=\"1\" class=\"dataframe\">\n",
       "  <thead>\n",
       "    <tr style=\"text-align: right;\">\n",
       "      <th></th>\n",
       "      <th>updateCount</th>\n",
       "      <th>lastprice</th>\n",
       "      <th>volume</th>\n",
       "      <th>bidsize</th>\n",
       "      <th>bid</th>\n",
       "      <th>ask</th>\n",
       "      <th>asksize</th>\n",
       "      <th>spread</th>\n",
       "      <th>marketsize</th>\n",
       "      <th>mid</th>\n",
       "      <th>curvolume</th>\n",
       "      <th>sizeDeltaAtBid</th>\n",
       "      <th>sizeDeltaAtAsk</th>\n",
       "      <th>top_bid</th>\n",
       "    </tr>\n",
       "  </thead>\n",
       "  <tbody>\n",
       "    <tr>\n",
       "      <th>3</th>\n",
       "      <td>4</td>\n",
       "      <td>26.79</td>\n",
       "      <td>374</td>\n",
       "      <td>42</td>\n",
       "      <td>26.78</td>\n",
       "      <td>26.79</td>\n",
       "      <td>44</td>\n",
       "      <td>0.01</td>\n",
       "      <td>43.0</td>\n",
       "      <td>26.785</td>\n",
       "      <td>13</td>\n",
       "      <td>NaN</td>\n",
       "      <td>NaN</td>\n",
       "      <td>True</td>\n",
       "    </tr>\n",
       "    <tr>\n",
       "      <th>8</th>\n",
       "      <td>9</td>\n",
       "      <td>26.78</td>\n",
       "      <td>589</td>\n",
       "      <td>7</td>\n",
       "      <td>26.78</td>\n",
       "      <td>26.79</td>\n",
       "      <td>13</td>\n",
       "      <td>0.01</td>\n",
       "      <td>10.0</td>\n",
       "      <td>26.785</td>\n",
       "      <td>1</td>\n",
       "      <td>NaN</td>\n",
       "      <td>1.0</td>\n",
       "      <td>True</td>\n",
       "    </tr>\n",
       "    <tr>\n",
       "      <th>15</th>\n",
       "      <td>16</td>\n",
       "      <td>26.80</td>\n",
       "      <td>789</td>\n",
       "      <td>23</td>\n",
       "      <td>26.79</td>\n",
       "      <td>26.81</td>\n",
       "      <td>72</td>\n",
       "      <td>0.02</td>\n",
       "      <td>47.5</td>\n",
       "      <td>26.800</td>\n",
       "      <td>20</td>\n",
       "      <td>NaN</td>\n",
       "      <td>NaN</td>\n",
       "      <td>True</td>\n",
       "    </tr>\n",
       "    <tr>\n",
       "      <th>17</th>\n",
       "      <td>18</td>\n",
       "      <td>26.80</td>\n",
       "      <td>795</td>\n",
       "      <td>19</td>\n",
       "      <td>26.80</td>\n",
       "      <td>26.81</td>\n",
       "      <td>67</td>\n",
       "      <td>0.01</td>\n",
       "      <td>43.0</td>\n",
       "      <td>26.805</td>\n",
       "      <td>6</td>\n",
       "      <td>NaN</td>\n",
       "      <td>2.0</td>\n",
       "      <td>True</td>\n",
       "    </tr>\n",
       "    <tr>\n",
       "      <th>20</th>\n",
       "      <td>21</td>\n",
       "      <td>26.80</td>\n",
       "      <td>830</td>\n",
       "      <td>47</td>\n",
       "      <td>26.80</td>\n",
       "      <td>26.81</td>\n",
       "      <td>56</td>\n",
       "      <td>0.01</td>\n",
       "      <td>51.5</td>\n",
       "      <td>26.805</td>\n",
       "      <td>5</td>\n",
       "      <td>NaN</td>\n",
       "      <td>4.0</td>\n",
       "      <td>True</td>\n",
       "    </tr>\n",
       "  </tbody>\n",
       "</table>\n",
       "</div>"
      ],
      "text/plain": [
       "    updateCount  lastprice  volume  bidsize    bid    ask  asksize  spread  \\\n",
       "3             4      26.79     374       42  26.78  26.79       44    0.01   \n",
       "8             9      26.78     589        7  26.78  26.79       13    0.01   \n",
       "15           16      26.80     789       23  26.79  26.81       72    0.02   \n",
       "17           18      26.80     795       19  26.80  26.81       67    0.01   \n",
       "20           21      26.80     830       47  26.80  26.81       56    0.01   \n",
       "\n",
       "    marketsize     mid  curvolume  sizeDeltaAtBid  sizeDeltaAtAsk top_bid  \n",
       "3         43.0  26.785         13             NaN             NaN    True  \n",
       "8         10.0  26.785          1             NaN             1.0    True  \n",
       "15        47.5  26.800         20             NaN             NaN    True  \n",
       "17        43.0  26.805          6             NaN             2.0    True  \n",
       "20        51.5  26.805          5             NaN             4.0    True  "
      ]
     },
     "execution_count": 194,
     "metadata": {},
     "output_type": "execute_result"
    }
   ],
   "source": [
    "df[index].head()"
   ]
  },
  {
   "cell_type": "code",
   "execution_count": 164,
   "metadata": {},
   "outputs": [],
   "source": [
    "orders = df[index][\"bidsize\"]# top order对应的订单数\n",
    "fills = []#每个top order被填充的情况\n",
    "flags = [False for _ in range(len(orders))]#如果没能始终位于BBO，就标记下来\n",
    "last = df.index[-1]#最后一个index\n",
    "for i,idx in enumerate(df[index].index):\n",
    "    curorder = df.loc[idx,\"bidsize\"]\n",
    "    curprice = df.loc[idx,\"bid\"]\n",
    "    start = idx+1\n",
    "    count = 0\n",
    "    while count<curorder and start<=last:\n",
    "        price = df.loc[start,\"bid\"]\n",
    "        lastprice = df.loc[start,\"lastprice\"]\n",
    "        if price<curprice:#出现了更低的价格，说明该订单被取消了\n",
    "            break\n",
    "        if price>curprice:#出现了更高的价格，说明该订单没能始终位于BBO，标记下来\n",
    "            flags[i]=True\n",
    "            break\n",
    "        elif lastprice==curprice:#以该价格成交了\n",
    "            count+=df.loc[start,\"curvolume\"]\n",
    "        start+=1\n",
    "    fills.append(min(count,curorder))#填充的总额"
   ]
  },
  {
   "cell_type": "code",
   "execution_count": 213,
   "metadata": {},
   "outputs": [],
   "source": [
    "fills = np.array(fills)\n",
    "orders = np.array(orders)"
   ]
  },
  {
   "cell_type": "code",
   "execution_count": 167,
   "metadata": {},
   "outputs": [
    {
     "name": "stdout",
     "output_type": "stream",
     "text": [
      "the total number of top orders: 681 order总量为: 73149\n"
     ]
    }
   ],
   "source": [
    "print(\"the total number of top orders:\",len(orders),\"order总量为:\",orders.sum())"
   ]
  },
  {
   "cell_type": "code",
   "execution_count": 168,
   "metadata": {},
   "outputs": [
    {
     "name": "stdout",
     "output_type": "stream",
     "text": [
      "the number that do not spend their entire lifespan on the BBO 62\n"
     ]
    }
   ],
   "source": [
    "print(\"the number that do not spend their entire lifespan on the BBO:\",sum(flags))"
   ]
  },
  {
   "cell_type": "code",
   "execution_count": 179,
   "metadata": {},
   "outputs": [],
   "source": [
    "fills_BBO = fills[[not i for i in flags]]# 始终位于BBO的订单的填充情况\n",
    "orders_BBO = orders[[not i for i in flags]]#始终位于BBO的订单"
   ]
  },
  {
   "cell_type": "code",
   "execution_count": 192,
   "metadata": {},
   "outputs": [
    {
     "name": "stdout",
     "output_type": "stream",
     "text": [
      "全部在BBO阶段的订单的数量: 619\n",
      "对于全部在BBO阶段的订单，被original size填充的为: 309\n"
     ]
    }
   ],
   "source": [
    "print(\"全部在BBO阶段的订单的数量:\",len(orders_BBO))\n",
    "print(\"对于全部在BBO阶段的订单，被original size填充的为:\",sum([1 for i in fills_BBO/orders_BBO if i==1]))"
   ]
  },
  {
   "cell_type": "markdown",
   "metadata": {},
   "source": [
    "# Q6，被全部填充的BBO订单的return"
   ]
  },
  {
   "cell_type": "code",
   "execution_count": 241,
   "metadata": {},
   "outputs": [],
   "source": [
    "# 被全部填充的BBO订单\n",
    "index = np.array(df[(df['bid']>df['bid'].shift(1,fill_value=float(\"inf\")))].index)\n",
    "index = [index[i] for i in range(len(index)) if (not flags[i] and fills[i]==orders[i])]"
   ]
  },
  {
   "cell_type": "code",
   "execution_count": 242,
   "metadata": {},
   "outputs": [],
   "source": [
    "returns = []\n",
    "curorders = []#订单的大小\n",
    "for i in index:#对于每个订单\n",
    "    curprice = df.loc[i,\"bid\"]\n",
    "    if i+40<=last:#40之后的价格\n",
    "        newprice = df.loc[i+40,\"mid\"]\n",
    "    delta = (newprice-curprice)/0.01\n",
    "    returns.append(delta)\n",
    "    curorders.append(df.loc[i,\"bidsize\"])"
   ]
  },
  {
   "cell_type": "code",
   "execution_count": 243,
   "metadata": {},
   "outputs": [
    {
     "name": "stdout",
     "output_type": "stream",
     "text": [
      "不size加权情况下的，average returns of top orders: 0.2896440129449745\n",
      "size加权情况下的，average returns of top orders: 0.40225035161743805\n"
     ]
    }
   ],
   "source": [
    "print(\"不size加权情况下的，average returns of top orders:\",sum(returns)/len(returns))\n",
    "print(\"size加权情况下的，average returns of top orders:\",np.sum(np.array(returns)*np.array(curorders))/np.sum(curorders))"
   ]
  },
  {
   "cell_type": "markdown",
   "metadata": {},
   "source": [
    "# Q7，没有被全部填充的BBO订单的return\n",
    "\n",
    "这里我的理解是，没有被全部填充的BBO订单，部分被填充，其余部分被人为取消"
   ]
  },
  {
   "cell_type": "code",
   "execution_count": 244,
   "metadata": {},
   "outputs": [],
   "source": [
    "# 没有被全部填充的BBO订单\n",
    "\n",
    "index = np.array(df[(df['bid']>df['bid'].shift(1,fill_value=float(\"inf\")))].index)\n",
    "\n",
    "returns = []\n",
    "curorders = []#订单的大小\n",
    "for idx,i in enumerate(index):#对于每个订单\n",
    "    if (not flags[idx] and fills[idx]!=orders[idx]):#没有被全部填充的BBO订单\n",
    "        curprice = df.loc[i,\"bid\"]\n",
    "        if i+40<=last:#40之后的价格\n",
    "            newprice = df.loc[i+40,\"mid\"]\n",
    "        delta = (newprice-curprice)/0.01\n",
    "        returns.append(delta)\n",
    "        curorders.append(fills[idx])#只有部分被填充"
   ]
  },
  {
   "cell_type": "code",
   "execution_count": 245,
   "metadata": {},
   "outputs": [
    {
     "name": "stdout",
     "output_type": "stream",
     "text": [
      "不size加权情况下的，average returns of top orders: 0.014516129032252885\n",
      "size加权情况下的，average returns of top orders: 0.044193857965463365\n"
     ]
    }
   ],
   "source": [
    "print(\"不size加权情况下的，average returns of top orders:\",sum(returns)/len(returns))\n",
    "print(\"size加权情况下的，average returns of top orders:\",np.sum(np.array(returns)*np.array(curorders))/np.sum(curorders))"
   ]
  },
  {
   "cell_type": "markdown",
   "metadata": {},
   "source": [
    "# Q8，对return进行建模\n",
    "####  以return作为response，return对应的bidsize，和之后新添加的size作为feature\n",
    "\n",
    "根据以下数据，一个明显的观察是return和nxtsize可能有较为明显的正相关关系\n",
    "\n",
    "本来想考虑用线性模型拟合，但是似乎不显著，可能是因为关系非线性，并且return可取的值偏少，这种情况下，可以考虑使用随机森林模型建模，由于时间有限，没法完成"
   ]
  },
  {
   "cell_type": "code",
   "execution_count": 253,
   "metadata": {},
   "outputs": [],
   "source": [
    "index = np.array(df[(df['bid']>df['bid'].shift(1,fill_value=float(\"inf\")))].index)\n",
    "index = [index[i] for i in range(len(index)) if (not flags[i] and fills[i]==orders[i])]\n",
    "\n",
    "returns = []\n",
    "curorders = []#订单的大小\n",
    "for i in index:#对于每个订单\n",
    "    curprice = df.loc[i,\"bid\"]\n",
    "    if i+40<=last:#40之后的价格\n",
    "        newprice = df.loc[i+40,\"mid\"]\n",
    "    delta = (newprice-curprice)/0.01\n",
    "    returns.append(delta)\n",
    "    curorders.append(df.loc[i,\"bidsize\"])"
   ]
  },
  {
   "cell_type": "code",
   "execution_count": 251,
   "metadata": {},
   "outputs": [],
   "source": [
    "df.loc[index,\"bid_BBO_filled\"] = True #被全部填充的BBO订单"
   ]
  },
  {
   "cell_type": "code",
   "execution_count": 281,
   "metadata": {},
   "outputs": [
    {
     "data": {
      "text/html": [
       "<div>\n",
       "<style scoped>\n",
       "    .dataframe tbody tr th:only-of-type {\n",
       "        vertical-align: middle;\n",
       "    }\n",
       "\n",
       "    .dataframe tbody tr th {\n",
       "        vertical-align: top;\n",
       "    }\n",
       "\n",
       "    .dataframe thead th {\n",
       "        text-align: right;\n",
       "    }\n",
       "</style>\n",
       "<table border=\"1\" class=\"dataframe\">\n",
       "  <thead>\n",
       "    <tr style=\"text-align: right;\">\n",
       "      <th></th>\n",
       "      <th>updateCount</th>\n",
       "      <th>lastprice</th>\n",
       "      <th>volume</th>\n",
       "      <th>bidsize</th>\n",
       "      <th>bid</th>\n",
       "      <th>ask</th>\n",
       "      <th>asksize</th>\n",
       "      <th>spread</th>\n",
       "      <th>marketsize</th>\n",
       "      <th>mid</th>\n",
       "      <th>curvolume</th>\n",
       "      <th>sizeDeltaAtBid</th>\n",
       "      <th>sizeDeltaAtAsk</th>\n",
       "      <th>top_bid</th>\n",
       "      <th>bid_BBO_filled</th>\n",
       "    </tr>\n",
       "  </thead>\n",
       "  <tbody>\n",
       "    <tr>\n",
       "      <th>0</th>\n",
       "      <td>1</td>\n",
       "      <td>26.78</td>\n",
       "      <td>303</td>\n",
       "      <td>455</td>\n",
       "      <td>26.77</td>\n",
       "      <td>26.79</td>\n",
       "      <td>1</td>\n",
       "      <td>0.02</td>\n",
       "      <td>228.0</td>\n",
       "      <td>26.780</td>\n",
       "      <td>0</td>\n",
       "      <td>NaN</td>\n",
       "      <td>NaN</td>\n",
       "      <td>NaN</td>\n",
       "      <td>NaN</td>\n",
       "    </tr>\n",
       "    <tr>\n",
       "      <th>1</th>\n",
       "      <td>2</td>\n",
       "      <td>26.78</td>\n",
       "      <td>303</td>\n",
       "      <td>455</td>\n",
       "      <td>26.77</td>\n",
       "      <td>26.79</td>\n",
       "      <td>1</td>\n",
       "      <td>0.02</td>\n",
       "      <td>228.0</td>\n",
       "      <td>26.780</td>\n",
       "      <td>0</td>\n",
       "      <td>0.0</td>\n",
       "      <td>0.0</td>\n",
       "      <td>NaN</td>\n",
       "      <td>NaN</td>\n",
       "    </tr>\n",
       "    <tr>\n",
       "      <th>2</th>\n",
       "      <td>3</td>\n",
       "      <td>26.77</td>\n",
       "      <td>361</td>\n",
       "      <td>518</td>\n",
       "      <td>26.77</td>\n",
       "      <td>26.78</td>\n",
       "      <td>1</td>\n",
       "      <td>0.01</td>\n",
       "      <td>259.5</td>\n",
       "      <td>26.775</td>\n",
       "      <td>58</td>\n",
       "      <td>121.0</td>\n",
       "      <td>NaN</td>\n",
       "      <td>NaN</td>\n",
       "      <td>NaN</td>\n",
       "    </tr>\n",
       "    <tr>\n",
       "      <th>3</th>\n",
       "      <td>4</td>\n",
       "      <td>26.79</td>\n",
       "      <td>374</td>\n",
       "      <td>42</td>\n",
       "      <td>26.78</td>\n",
       "      <td>26.79</td>\n",
       "      <td>44</td>\n",
       "      <td>0.01</td>\n",
       "      <td>43.0</td>\n",
       "      <td>26.785</td>\n",
       "      <td>13</td>\n",
       "      <td>NaN</td>\n",
       "      <td>NaN</td>\n",
       "      <td>True</td>\n",
       "      <td>NaN</td>\n",
       "    </tr>\n",
       "    <tr>\n",
       "      <th>4</th>\n",
       "      <td>5</td>\n",
       "      <td>26.79</td>\n",
       "      <td>413</td>\n",
       "      <td>163</td>\n",
       "      <td>26.77</td>\n",
       "      <td>26.80</td>\n",
       "      <td>2</td>\n",
       "      <td>0.03</td>\n",
       "      <td>82.5</td>\n",
       "      <td>26.785</td>\n",
       "      <td>39</td>\n",
       "      <td>NaN</td>\n",
       "      <td>NaN</td>\n",
       "      <td>NaN</td>\n",
       "      <td>NaN</td>\n",
       "    </tr>\n",
       "  </tbody>\n",
       "</table>\n",
       "</div>"
      ],
      "text/plain": [
       "   updateCount  lastprice  volume  bidsize    bid    ask  asksize  spread  \\\n",
       "0            1      26.78     303      455  26.77  26.79        1    0.02   \n",
       "1            2      26.78     303      455  26.77  26.79        1    0.02   \n",
       "2            3      26.77     361      518  26.77  26.78        1    0.01   \n",
       "3            4      26.79     374       42  26.78  26.79       44    0.01   \n",
       "4            5      26.79     413      163  26.77  26.80        2    0.03   \n",
       "\n",
       "   marketsize     mid  curvolume  sizeDeltaAtBid  sizeDeltaAtAsk top_bid  \\\n",
       "0       228.0  26.780          0             NaN             NaN     NaN   \n",
       "1       228.0  26.780          0             0.0             0.0     NaN   \n",
       "2       259.5  26.775         58           121.0             NaN     NaN   \n",
       "3        43.0  26.785         13             NaN             NaN    True   \n",
       "4        82.5  26.785         39             NaN             NaN     NaN   \n",
       "\n",
       "  bid_BBO_filled  \n",
       "0            NaN  \n",
       "1            NaN  \n",
       "2            NaN  \n",
       "3            NaN  \n",
       "4            NaN  "
      ]
     },
     "execution_count": 281,
     "metadata": {},
     "output_type": "execute_result"
    }
   ],
   "source": [
    "df.head()"
   ]
  },
  {
   "cell_type": "code",
   "execution_count": 270,
   "metadata": {},
   "outputs": [],
   "source": [
    "data = dict()# 提取数据\n",
    "for idx,i in enumerate(index):\n",
    "    data[\"return\"] = data.get(\"return\",[])+[returns[idx]]\n",
    "    data[\"size\"] = data.get(\"size\",[])+[df.loc[i,\"bidsize\"]]\n",
    "    data[\"nxtsize\"] = data.get(\"nxtsize\",[])+[df.loc[i+1,\"sizeDeltaAtBid\"]]#新添加的订单\n",
    "    \n",
    "df2 = pd.DataFrame.from_dict(data)"
   ]
  },
  {
   "cell_type": "code",
   "execution_count": 282,
   "metadata": {},
   "outputs": [
    {
     "data": {
      "text/html": [
       "<div>\n",
       "<style scoped>\n",
       "    .dataframe tbody tr th:only-of-type {\n",
       "        vertical-align: middle;\n",
       "    }\n",
       "\n",
       "    .dataframe tbody tr th {\n",
       "        vertical-align: top;\n",
       "    }\n",
       "\n",
       "    .dataframe thead th {\n",
       "        text-align: right;\n",
       "    }\n",
       "</style>\n",
       "<table border=\"1\" class=\"dataframe\">\n",
       "  <thead>\n",
       "    <tr style=\"text-align: right;\">\n",
       "      <th></th>\n",
       "      <th>return</th>\n",
       "      <th>size</th>\n",
       "      <th>nxtsize</th>\n",
       "    </tr>\n",
       "  </thead>\n",
       "  <tbody>\n",
       "    <tr>\n",
       "      <th>0</th>\n",
       "      <td>1.5</td>\n",
       "      <td>7</td>\n",
       "      <td>133.0</td>\n",
       "    </tr>\n",
       "    <tr>\n",
       "      <th>1</th>\n",
       "      <td>0.5</td>\n",
       "      <td>24</td>\n",
       "      <td>67.0</td>\n",
       "    </tr>\n",
       "    <tr>\n",
       "      <th>2</th>\n",
       "      <td>0.5</td>\n",
       "      <td>21</td>\n",
       "      <td>0.0</td>\n",
       "    </tr>\n",
       "    <tr>\n",
       "      <th>3</th>\n",
       "      <td>1.5</td>\n",
       "      <td>2</td>\n",
       "      <td>61.0</td>\n",
       "    </tr>\n",
       "    <tr>\n",
       "      <th>4</th>\n",
       "      <td>1.5</td>\n",
       "      <td>186</td>\n",
       "      <td>39.0</td>\n",
       "    </tr>\n",
       "    <tr>\n",
       "      <th>5</th>\n",
       "      <td>-0.5</td>\n",
       "      <td>12</td>\n",
       "      <td>0.0</td>\n",
       "    </tr>\n",
       "    <tr>\n",
       "      <th>6</th>\n",
       "      <td>0.5</td>\n",
       "      <td>26</td>\n",
       "      <td>1.0</td>\n",
       "    </tr>\n",
       "    <tr>\n",
       "      <th>7</th>\n",
       "      <td>0.5</td>\n",
       "      <td>80</td>\n",
       "      <td>91.0</td>\n",
       "    </tr>\n",
       "    <tr>\n",
       "      <th>8</th>\n",
       "      <td>-0.5</td>\n",
       "      <td>55</td>\n",
       "      <td>0.0</td>\n",
       "    </tr>\n",
       "    <tr>\n",
       "      <th>9</th>\n",
       "      <td>0.5</td>\n",
       "      <td>41</td>\n",
       "      <td>0.0</td>\n",
       "    </tr>\n",
       "    <tr>\n",
       "      <th>10</th>\n",
       "      <td>0.5</td>\n",
       "      <td>18</td>\n",
       "      <td>9.0</td>\n",
       "    </tr>\n",
       "    <tr>\n",
       "      <th>11</th>\n",
       "      <td>2.5</td>\n",
       "      <td>60</td>\n",
       "      <td>50.0</td>\n",
       "    </tr>\n",
       "    <tr>\n",
       "      <th>12</th>\n",
       "      <td>-0.5</td>\n",
       "      <td>45</td>\n",
       "      <td>1.0</td>\n",
       "    </tr>\n",
       "    <tr>\n",
       "      <th>13</th>\n",
       "      <td>-0.5</td>\n",
       "      <td>4</td>\n",
       "      <td>0.0</td>\n",
       "    </tr>\n",
       "    <tr>\n",
       "      <th>14</th>\n",
       "      <td>0.5</td>\n",
       "      <td>6</td>\n",
       "      <td>3.0</td>\n",
       "    </tr>\n",
       "    <tr>\n",
       "      <th>15</th>\n",
       "      <td>0.5</td>\n",
       "      <td>1</td>\n",
       "      <td>2.0</td>\n",
       "    </tr>\n",
       "    <tr>\n",
       "      <th>16</th>\n",
       "      <td>0.5</td>\n",
       "      <td>14</td>\n",
       "      <td>1.0</td>\n",
       "    </tr>\n",
       "    <tr>\n",
       "      <th>17</th>\n",
       "      <td>0.5</td>\n",
       "      <td>5</td>\n",
       "      <td>3.0</td>\n",
       "    </tr>\n",
       "    <tr>\n",
       "      <th>18</th>\n",
       "      <td>0.5</td>\n",
       "      <td>25</td>\n",
       "      <td>0.0</td>\n",
       "    </tr>\n",
       "    <tr>\n",
       "      <th>19</th>\n",
       "      <td>0.5</td>\n",
       "      <td>1</td>\n",
       "      <td>3.0</td>\n",
       "    </tr>\n",
       "  </tbody>\n",
       "</table>\n",
       "</div>"
      ],
      "text/plain": [
       "    return  size  nxtsize\n",
       "0      1.5     7    133.0\n",
       "1      0.5    24     67.0\n",
       "2      0.5    21      0.0\n",
       "3      1.5     2     61.0\n",
       "4      1.5   186     39.0\n",
       "5     -0.5    12      0.0\n",
       "6      0.5    26      1.0\n",
       "7      0.5    80     91.0\n",
       "8     -0.5    55      0.0\n",
       "9      0.5    41      0.0\n",
       "10     0.5    18      9.0\n",
       "11     2.5    60     50.0\n",
       "12    -0.5    45      1.0\n",
       "13    -0.5     4      0.0\n",
       "14     0.5     6      3.0\n",
       "15     0.5     1      2.0\n",
       "16     0.5    14      1.0\n",
       "17     0.5     5      3.0\n",
       "18     0.5    25      0.0\n",
       "19     0.5     1      3.0"
      ]
     },
     "execution_count": 282,
     "metadata": {},
     "output_type": "execute_result"
    }
   ],
   "source": [
    "df2.head(20)"
   ]
  },
  {
   "cell_type": "code",
   "execution_count": 272,
   "metadata": {},
   "outputs": [],
   "source": [
    "from sklearn.linear_model import LinearRegression"
   ]
  },
  {
   "cell_type": "code",
   "execution_count": 273,
   "metadata": {},
   "outputs": [],
   "source": [
    "lr = LinearRegression()"
   ]
  },
  {
   "cell_type": "code",
   "execution_count": 274,
   "metadata": {},
   "outputs": [
    {
     "data": {
      "text/plain": [
       "LinearRegression()"
      ]
     },
     "execution_count": 274,
     "metadata": {},
     "output_type": "execute_result"
    }
   ],
   "source": [
    "lr.fit(df2[[\"size\",\"nxtsize\"]],df2['return'])"
   ]
  },
  {
   "cell_type": "code",
   "execution_count": 277,
   "metadata": {},
   "outputs": [
    {
     "data": {
      "text/plain": [
       "array([ 1.5,  0.5,  1.5, -0.5,  0.5, -0.5,  2.5, -1.5,  1.5,  0. ,  2.5,\n",
       "        1. ,  4. , -1.5])"
      ]
     },
     "execution_count": 277,
     "metadata": {},
     "output_type": "execute_result"
    }
   ],
   "source": [
    "df2['return'].unique()"
   ]
  },
  {
   "cell_type": "code",
   "execution_count": 284,
   "metadata": {},
   "outputs": [
    {
     "data": {
      "text/html": [
       "<div>\n",
       "<style scoped>\n",
       "    .dataframe tbody tr th:only-of-type {\n",
       "        vertical-align: middle;\n",
       "    }\n",
       "\n",
       "    .dataframe tbody tr th {\n",
       "        vertical-align: top;\n",
       "    }\n",
       "\n",
       "    .dataframe thead th {\n",
       "        text-align: right;\n",
       "    }\n",
       "</style>\n",
       "<table border=\"1\" class=\"dataframe\">\n",
       "  <thead>\n",
       "    <tr style=\"text-align: right;\">\n",
       "      <th></th>\n",
       "      <th>return</th>\n",
       "      <th>nxtsize</th>\n",
       "    </tr>\n",
       "  </thead>\n",
       "  <tbody>\n",
       "    <tr>\n",
       "      <th>return</th>\n",
       "      <td>1.000000</td>\n",
       "      <td>0.021433</td>\n",
       "    </tr>\n",
       "    <tr>\n",
       "      <th>nxtsize</th>\n",
       "      <td>0.021433</td>\n",
       "      <td>1.000000</td>\n",
       "    </tr>\n",
       "  </tbody>\n",
       "</table>\n",
       "</div>"
      ],
      "text/plain": [
       "           return   nxtsize\n",
       "return   1.000000  0.021433\n",
       "nxtsize  0.021433  1.000000"
      ]
     },
     "execution_count": 284,
     "metadata": {},
     "output_type": "execute_result"
    }
   ],
   "source": [
    "df2[['return','nxtsize']].corr()"
   ]
  },
  {
   "cell_type": "markdown",
   "metadata": {},
   "source": [
    "# Q9，return好处和坏处\n",
    "- 好处：以最直接的top order为例子，直接清晰的看出对所对应的订单的收益情况进行反馈\n",
    "- 坏处：40的时间没有相应依据，容易受到随机情况的影响，可以考虑多取几个时间段做平均；并且只考虑了部分订单的情况，没有追溯其他订单\n",
    "- 另外需要具体考虑return的影响因素，如订单量，当前价格，后续order情况等，才能更好理解return"
   ]
  },
  {
   "cell_type": "markdown",
   "metadata": {},
   "source": [
    "# Q10，反馈与思考\n",
    "1. 题目中有些定义不太清晰，尤其是在aggressive方的定义，不知道是否有相应前提，对于非专业背景来说，这个定义影响了对题目的理解\n",
    "2. 在订单分配上，我是采取直接使用last price，类比为piecewise模型一样，这样虽然简化了后续处理，但是让成交订单的价格不连续，会使分析与模型不准确\n",
    "3. 更加合理的是按照订单量对ask size和bid size进行加权分配，但是考虑到同时出现了last price，如果这样处理，可能会出现分配的成交价与last price不一致，故没有考虑，对于实际情况，这个问题需要进行实际分析"
   ]
  },
  {
   "cell_type": "code",
   "execution_count": null,
   "metadata": {},
   "outputs": [],
   "source": []
  }
 ],
 "metadata": {
  "kernelspec": {
   "display_name": "Python 3",
   "language": "python",
   "name": "python3"
  },
  "language_info": {
   "codemirror_mode": {
    "name": "ipython",
    "version": 3
   },
   "file_extension": ".py",
   "mimetype": "text/x-python",
   "name": "python",
   "nbconvert_exporter": "python",
   "pygments_lexer": "ipython3",
   "version": "3.7.3"
  }
 },
 "nbformat": 4,
 "nbformat_minor": 2
}
